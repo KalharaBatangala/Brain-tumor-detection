{
  "nbformat": 4,
  "nbformat_minor": 0,
  "metadata": {
    "colab": {
      "provenance": [],
      "mount_file_id": "17Zfkcfv6v581qj2_EQVY7udhrzoB9pl6",
      "authorship_tag": "ABX9TyO6GPZ8r/iF7eByNjacgIHe",
      "include_colab_link": true
    },
    "kernelspec": {
      "name": "python3",
      "display_name": "Python 3"
    },
    "language_info": {
      "name": "python"
    }
  },
  "cells": [
    {
      "cell_type": "markdown",
      "metadata": {
        "id": "view-in-github",
        "colab_type": "text"
      },
      "source": [
        "<a href=\"https://colab.research.google.com/github/KalharaBatangala/Brain-tumor-detection/blob/main/Brain_Tumor_Detection.ipynb\" target=\"_parent\"><img src=\"https://colab.research.google.com/assets/colab-badge.svg\" alt=\"Open In Colab\"/></a>"
      ]
    },
    {
      "cell_type": "markdown",
      "source": [
        "**Import Libraries**"
      ],
      "metadata": {
        "id": "g4UfUYwpUPXv"
      }
    },
    {
      "cell_type": "code",
      "execution_count": 5,
      "metadata": {
        "id": "W8E-uidtEXwm"
      },
      "outputs": [],
      "source": [
        "import numpy as np\n",
        "import pandas as pd\n",
        "import keras\n",
        "\n",
        "from keras.models import Sequential\n",
        "from keras.layers import Conv2D, Flatten, Dense, MaxPooling2D, Dropout\n",
        "from sklearn.metrics import accuracy_score\n",
        "\n",
        "import ipywidgets as widgets\n",
        "import io\n",
        "from PIL import Image\n",
        "import tqdm\n",
        "from sklearn.model_selection import train_test_split\n",
        "import cv2\n",
        "from sklearn.utils import shuffle\n",
        "import tensorflow as tf\n",
        "import os\n"
      ]
    },
    {
      "cell_type": "code",
      "source": [
        "X_train = []\n",
        "Y_train = []\n",
        "image_size = 150\n",
        "labels = ['glioma', 'meningioma', 'pituitary', 'notumor']\n",
        "\n",
        "for i in labels:\n",
        "  folderPath = os.path.join('./drive/MyDrive/DatasetMRI/Training/', i)    #dataset in the google drive\n",
        "  for j in os.listdir(folderPath):\n",
        "    img = cv2.imread(os.path.join(folderPath, j))\n",
        "    img = cv2.resize(img, (image_size, image_size))\n",
        "    X_train.append(img)\n",
        "    Y_train.append(i)\n",
        "\n",
        "X_train = np.array(X_train)\n",
        "Y_train = np.array(Y_train)\n",
        "print('Completed successfully')"
      ],
      "metadata": {
        "id": "rZDy7R0VRFpU",
        "colab": {
          "base_uri": "https://localhost:8080/"
        },
        "outputId": "fa12feeb-4f11-4738-cd15-e038493686b4"
      },
      "execution_count": 6,
      "outputs": [
        {
          "output_type": "stream",
          "name": "stdout",
          "text": [
            "Completed successfully\n"
          ]
        }
      ]
    },
    {
      "cell_type": "code",
      "source": [
        "X_train, Y_train = shuffle(X_train, Y_train, random_state=101)\n",
        "X_train.shape[0]"
      ],
      "metadata": {
        "id": "BlinvNYipVaf",
        "colab": {
          "base_uri": "https://localhost:8080/"
        },
        "outputId": "1a50c26c-18a1-45dc-cd4a-267fa661e482"
      },
      "execution_count": 7,
      "outputs": [
        {
          "output_type": "execute_result",
          "data": {
            "text/plain": [
              "5702"
            ]
          },
          "metadata": {},
          "execution_count": 7
        }
      ]
    },
    {
      "cell_type": "code",
      "source": [
        "X_train, X_test, y_train, y_test = train_test_split(X_train, Y_train, test_size=0.1, random_state=101)"
      ],
      "metadata": {
        "id": "Cf1mRPGc5XwK"
      },
      "execution_count": 8,
      "outputs": []
    },
    {
      "cell_type": "markdown",
      "source": [
        "**Train Test Split**"
      ],
      "metadata": {
        "id": "sLfCJeGzEpKw"
      }
    },
    {
      "cell_type": "code",
      "source": [
        "y_train_new = []\n",
        "\n",
        "for i in y_train:\n",
        "  y_train_new.append(labels.index(i))\n",
        "y_train = y_train_new\n",
        "y_train = tf.keras.utils.to_categorical(y_train)\n",
        "\n",
        "y_test_new = []\n",
        "\n",
        "for i in y_test:\n",
        "  y_test_new.append(labels.index(i))\n",
        "y_test = y_test_new\n",
        "\n",
        "y_test = tf.keras.utils.to_categorical(y_test)\n",
        "\n"
      ],
      "metadata": {
        "id": "kj4cSJilkXjx"
      },
      "execution_count": 9,
      "outputs": []
    },
    {
      "cell_type": "markdown",
      "source": [
        "**Creating the CNN model**"
      ],
      "metadata": {
        "id": "7glKq4-LFEIg"
      }
    },
    {
      "cell_type": "code",
      "source": [
        "model = Sequential()\n",
        "model.add(Conv2D(32,(3,3), activation='relu', input_shape=(150,150,3)))\n",
        "model.add(Conv2D(64,(3,3), activation='relu'))\n",
        "model.add(MaxPooling2D(2,2))\n",
        "model.add(Dropout(0.3))\n",
        "model.add(Conv2D(64,(3,3), activation='relu'))\n",
        "model.add(Conv2D(64,(3,3), activation='relu'))\n",
        "model.add(Dropout(0.3))\n",
        "model.add(MaxPooling2D(2,2))\n",
        "model.add(Dropout(0.3))\n",
        "model.add(Conv2D(128,(3,3), activation='relu'))\n",
        "model.add(Conv2D(128,(3,3), activation='relu'))\n",
        "model.add(Conv2D(128,(3,3), activation='relu'))\n",
        "model.add(MaxPooling2D(2,2))\n",
        "model.add(Dropout(0.3))\n",
        "model.add(Conv2D(128,(3,3), activation='relu'))\n",
        "model.add(Conv2D(256,(3,3), activation='relu'))\n",
        "model.add(MaxPooling2D(2,2))\n",
        "model.add(Dropout(0.3))\n",
        "model.add(Flatten())\n",
        "model.add(Dense(512, activation='relu'))\n",
        "model.add(Dense(512, activation='relu'))\n",
        "model.add(Dropout(0.3))\n",
        "model.add(Dense(4, activation='softmax'))\n"
      ],
      "metadata": {
        "id": "jIyIUX_vFKKk",
        "colab": {
          "base_uri": "https://localhost:8080/"
        },
        "outputId": "f2589b92-d0f8-41d6-d706-d413dce6c36e"
      },
      "execution_count": 10,
      "outputs": [
        {
          "output_type": "stream",
          "name": "stderr",
          "text": [
            "/usr/local/lib/python3.10/dist-packages/keras/src/layers/convolutional/base_conv.py:107: UserWarning: Do not pass an `input_shape`/`input_dim` argument to a layer. When using Sequential models, prefer using an `Input(shape)` object as the first layer in the model instead.\n",
            "  super().__init__(activity_regularizer=activity_regularizer, **kwargs)\n"
          ]
        }
      ]
    },
    {
      "cell_type": "code",
      "source": [
        "model.summary()"
      ],
      "metadata": {
        "colab": {
          "base_uri": "https://localhost:8080/",
          "height": 141
        },
        "id": "DvtnyxmvMxt_",
        "outputId": "970afebd-e05b-483c-fbab-d5a92c34ea86"
      },
      "execution_count": 4,
      "outputs": [
        {
          "output_type": "error",
          "ename": "NameError",
          "evalue": "name 'model' is not defined",
          "traceback": [
            "\u001b[0;31m---------------------------------------------------------------------------\u001b[0m",
            "\u001b[0;31mNameError\u001b[0m                                 Traceback (most recent call last)",
            "\u001b[0;32m<ipython-input-4-5f15418b3570>\u001b[0m in \u001b[0;36m<cell line: 1>\u001b[0;34m()\u001b[0m\n\u001b[0;32m----> 1\u001b[0;31m \u001b[0mmodel\u001b[0m\u001b[0;34m.\u001b[0m\u001b[0msummary\u001b[0m\u001b[0;34m(\u001b[0m\u001b[0;34m)\u001b[0m\u001b[0;34m\u001b[0m\u001b[0;34m\u001b[0m\u001b[0m\n\u001b[0m",
            "\u001b[0;31mNameError\u001b[0m: name 'model' is not defined"
          ]
        }
      ]
    }
  ]
}